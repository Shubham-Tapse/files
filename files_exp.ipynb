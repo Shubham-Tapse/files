{
 "cells": [
  {
   "cell_type": "code",
   "execution_count": 1,
   "id": "9ee24ccb-9f4c-4d8a-86eb-c737a5593c61",
   "metadata": {},
   "outputs": [],
   "source": [
    "#Practical Questions Files & Exceptional Handling"
   ]
  },
  {
   "cell_type": "markdown",
   "id": "a0be5403-7173-458a-a325-e5265e65d4a3",
   "metadata": {},
   "source": [
    "Q4. Write a Python program using multithreading where one thread adds numbers to a list, and another\n",
    "thread removes numbers from the list. Implement a mechanism to avoid race conditions using\n",
    "threading.Lock."
   ]
  },
  {
   "cell_type": "code",
   "execution_count": 2,
   "id": "084ca019-26cb-492f-9f3f-6b6c1df2e5c1",
   "metadata": {},
   "outputs": [
    {
     "name": "stdout",
     "output_type": "stream",
     "text": [
      "Added 0 to the list. Current list: [0]\n",
      "Added 1 to the list. Current list: [0, 1]\n",
      "Removed 0 from the list. Current list: [1]\n",
      "Added 2 to the list. Current list: [1, 2]\n",
      "Added 3 to the list. Current list: [1, 2, 3]\n",
      "Removed 1 from the list. Current list: [2, 3]\n",
      "Added 4 to the list. Current list: [2, 3, 4]\n",
      "Added 5 to the list. Current list: [2, 3, 4, 5]\n",
      "Removed 2 from the list. Current list: [3, 4, 5]\n",
      "Added 6 to the list. Current list: [3, 4, 5, 6]\n",
      "Added 7 to the list. Current list: [3, 4, 5, 6, 7]\n",
      "Removed 3 from the list. Current list: [4, 5, 6, 7]\n",
      "Added 8 to the list. Current list: [4, 5, 6, 7, 8]\n",
      "Added 9 to the list. Current list: [4, 5, 6, 7, 8, 9]\n",
      "Removed 4 from the list. Current list: [5, 6, 7, 8, 9]\n",
      "Removed 5 from the list. Current list: [6, 7, 8, 9]\n",
      "Removed 6 from the list. Current list: [7, 8, 9]\n",
      "Removed 7 from the list. Current list: [8, 9]\n",
      "Removed 8 from the list. Current list: [9]\n",
      "Removed 9 from the list. Current list: []\n",
      "Final list: []\n"
     ]
    }
   ],
   "source": [
    "import threading\n",
    "import time\n",
    "\n",
    "# Shared list\n",
    "shared_list = []\n",
    "\n",
    "# Lock for synchronizing access to the shared list\n",
    "list_lock = threading.Lock()\n",
    "\n",
    "# Function to add numbers to the list\n",
    "def add_to_list():\n",
    "    for i in range(10):\n",
    "        time.sleep(1)  # Simulate some work\n",
    "        with list_lock:\n",
    "            shared_list.append(i)\n",
    "            print(f\"Added {i} to the list. Current list: {shared_list}\")\n",
    "\n",
    "# Function to remove numbers from the list\n",
    "def remove_from_list():\n",
    "    for _ in range(10):\n",
    "        time.sleep(2)  # Simulate some work\n",
    "        with list_lock:\n",
    "            if shared_list:\n",
    "                removed = shared_list.pop(0)\n",
    "                print(f\"Removed {removed} from the list. Current list: {shared_list}\")\n",
    "            else:\n",
    "                print(\"List is empty. Nothing to remove.\")\n",
    "\n",
    "# Creating threads\n",
    "thread1 = threading.Thread(target=add_to_list)\n",
    "thread2 = threading.Thread(target=remove_from_list)\n",
    "\n",
    "# Starting threads\n",
    "thread1.start()\n",
    "thread2.start()\n",
    "\n",
    "# Waiting for both threads to finish\n",
    "thread1.join()\n",
    "thread2.join()\n",
    "\n",
    "print(\"Final list:\", shared_list)\n"
   ]
  },
  {
   "cell_type": "code",
   "execution_count": null,
   "id": "27ebea15-6202-45dd-9157-f0661c0f432f",
   "metadata": {},
   "outputs": [],
   "source": []
  },
  {
   "cell_type": "markdown",
   "id": "a65cf93d-42db-44bc-81a5-6c7ea77fcb15",
   "metadata": {},
   "source": [
    "Q7. Create a program that uses a thread pool to calculate the factorial of numbers from 1 to 10 concurrently.\n",
    "Use concurrent.futures.ThreadPoolExecutor to manage the threads.\n",
    "\n",
    "\n"
   ]
  },
  {
   "cell_type": "code",
   "execution_count": 3,
   "id": "a8af815a-cf7b-4d75-9eef-d4b35c847fbe",
   "metadata": {},
   "outputs": [
    {
     "name": "stdout",
     "output_type": "stream",
     "text": [
      "Factorial of 1 is 1\n",
      "Factorial of 2 is 2\n",
      "Factorial of 3 is 6\n",
      "Factorial of 4 is 24\n",
      "Factorial of 5 is 120\n",
      "Factorial of 6 is 720\n",
      "Factorial of 7 is 5040\n",
      "Factorial of 8 is 40320\n",
      "Factorial of 9 is 362880\n",
      "Factorial of 10 is 3628800\n",
      "All factorials calculated: [1, 2, 6, 24, 120, 720, 5040, 40320, 362880, 3628800]\n"
     ]
    }
   ],
   "source": [
    "import concurrent.futures\n",
    "import math\n",
    "\n",
    "# Function to calculate the factorial of a given number\n",
    "def calculate_factorial(n):\n",
    "    result = math.factorial(n)\n",
    "    print(f\"Factorial of {n} is {result}\")\n",
    "    return result\n",
    "\n",
    "# List of numbers for which we want to calculate factorial\n",
    "numbers = list(range(1, 11))\n",
    "\n",
    "# Create a ThreadPoolExecutor to manage threads\n",
    "with concurrent.futures.ThreadPoolExecutor() as executor:\n",
    "    # Map the list of numbers to the calculate_factorial function\n",
    "    results = list(executor.map(calculate_factorial, numbers))\n",
    "\n",
    "# Print the results (optional, since we're already printing inside the function)\n",
    "print(\"All factorials calculated:\", results)\n"
   ]
  },
  {
   "cell_type": "code",
   "execution_count": null,
   "id": "c2ec7609-4ec1-4ed0-8e32-159bcea95e6b",
   "metadata": {},
   "outputs": [],
   "source": []
  },
  {
   "cell_type": "markdown",
   "id": "6c95314c-71cf-45b4-b5ad-0af2291ce8da",
   "metadata": {},
   "source": [
    "Q8. Create a Python program that uses multiprocessing.Pool to compute the square of numbers from 1 to 10 in\n",
    "parallel. Measure the time taken to perform this computation using a pool of different sizes (e.g., 2, 4, 8\n",
    "processes)."
   ]
  },
  {
   "cell_type": "code",
   "execution_count": 4,
   "id": "e6011264-3ba0-4787-845b-87d07301e886",
   "metadata": {},
   "outputs": [
    {
     "name": "stdout",
     "output_type": "stream",
     "text": [
      "Pool size: 2, Time taken: 0.0543 seconds, Results: [1, 4, 9, 16, 25, 36, 49, 64, 81, 100]\n",
      "Pool size: 4, Time taken: 0.0651 seconds, Results: [1, 4, 9, 16, 25, 36, 49, 64, 81, 100]\n",
      "Pool size: 8, Time taken: 0.0994 seconds, Results: [1, 4, 9, 16, 25, 36, 49, 64, 81, 100]\n"
     ]
    }
   ],
   "source": [
    "import multiprocessing\n",
    "import time\n",
    "\n",
    "def square(n):\n",
    "    return n * n\n",
    "\n",
    "if __name__ == \"__main__\":\n",
    "    numbers = list(range(1, 11))\n",
    "    pool_sizes = [2, 4, 8]\n",
    "\n",
    "    for size in pool_sizes:\n",
    "        start_time = time.time()\n",
    "        with multiprocessing.Pool(processes=size) as pool:\n",
    "            results = pool.map(square, numbers)\n",
    "        end_time = time.time()\n",
    "        print(f\"Pool size: {size}, Time taken: {end_time - start_time:.4f} seconds, Results: {results}\")\n"
   ]
  },
  {
   "cell_type": "code",
   "execution_count": null,
   "id": "ee8e30a7-9588-4497-a62f-b46c383a9906",
   "metadata": {},
   "outputs": [],
   "source": []
  }
 ],
 "metadata": {
  "kernelspec": {
   "display_name": "Python 3 (ipykernel)",
   "language": "python",
   "name": "python3"
  },
  "language_info": {
   "codemirror_mode": {
    "name": "ipython",
    "version": 3
   },
   "file_extension": ".py",
   "mimetype": "text/x-python",
   "name": "python",
   "nbconvert_exporter": "python",
   "pygments_lexer": "ipython3",
   "version": "3.10.8"
  }
 },
 "nbformat": 4,
 "nbformat_minor": 5
}
